{
 "cells": [
  {
   "cell_type": "code",
   "execution_count": null,
   "metadata": {},
   "outputs": [],
   "source": [
    "# Dependencies and Setup\n",
    "import pandas as pd\n",
    "import numpy as np\n",
    "import math\n",
    "\n",
    "\n",
    "# Read Purchasing File and store into Pandas data frame\n",
    "quakeData = pd.read_csv(\"all features.csv\")\n",
    "citygeos = pd.read_csv(\"city geos.csv\")"
   ]
  },
  {
   "cell_type": "code",
   "execution_count": null,
   "metadata": {},
   "outputs": [],
   "source": [
    "quakeData.head()"
   ]
  },
  {
   "cell_type": "code",
   "execution_count": 38,
   "metadata": {},
   "outputs": [
    {
     "data": {
      "text/plain": [
       "80386"
      ]
     },
     "execution_count": 38,
     "metadata": {},
     "output_type": "execute_result"
    }
   ],
   "source": [
    "len(quakeData)"
   ]
  },
  {
   "cell_type": "code",
   "execution_count": 26,
   "metadata": {},
   "outputs": [
    {
     "data": {
      "text/plain": [
       "3.141592653589793"
      ]
     },
     "execution_count": 26,
     "metadata": {},
     "output_type": "execute_result"
    }
   ],
   "source": [
    "math.pi"
   ]
  },
  {
   "cell_type": "code",
   "execution_count": 39,
   "metadata": {},
   "outputs": [
    {
     "data": {
      "text/html": [
       "<div>\n",
       "<style scoped>\n",
       "    .dataframe tbody tr th:only-of-type {\n",
       "        vertical-align: middle;\n",
       "    }\n",
       "\n",
       "    .dataframe tbody tr th {\n",
       "        vertical-align: top;\n",
       "    }\n",
       "\n",
       "    .dataframe thead th {\n",
       "        text-align: right;\n",
       "    }\n",
       "</style>\n",
       "<table border=\"1\" class=\"dataframe\">\n",
       "  <thead>\n",
       "    <tr style=\"text-align: right;\">\n",
       "      <th></th>\n",
       "      <th>index</th>\n",
       "      <th>time</th>\n",
       "      <th>latitude</th>\n",
       "      <th>longitude</th>\n",
       "      <th>depth</th>\n",
       "      <th>mag</th>\n",
       "      <th>ClosestCity</th>\n",
       "      <th>category</th>\n",
       "      <th>lastMonth</th>\n",
       "      <th>POR</th>\n",
       "      <th>...</th>\n",
       "      <th>Mag45</th>\n",
       "      <th>Mag50</th>\n",
       "      <th>Mag55</th>\n",
       "      <th>Mag60</th>\n",
       "      <th>Mag65</th>\n",
       "      <th>Mag70</th>\n",
       "      <th>Mag75</th>\n",
       "      <th>Mag80</th>\n",
       "      <th>Mag85</th>\n",
       "      <th>Mag90</th>\n",
       "    </tr>\n",
       "  </thead>\n",
       "  <tbody>\n",
       "    <tr>\n",
       "      <th>0</th>\n",
       "      <td>0</td>\n",
       "      <td>1975-12-31  02:53:00.00</td>\n",
       "      <td>34.279000</td>\n",
       "      <td>-116.337000</td>\n",
       "      <td>2.330</td>\n",
       "      <td>2.70</td>\n",
       "      <td>Twenty Nine Palms</td>\n",
       "      <td>2.5</td>\n",
       "      <td>1975-12-01 02:53:00.00</td>\n",
       "      <td>0.014476</td>\n",
       "      <td>...</td>\n",
       "      <td>0.0</td>\n",
       "      <td>0.0</td>\n",
       "      <td>0.0</td>\n",
       "      <td>0.0</td>\n",
       "      <td>0.0</td>\n",
       "      <td>0.0</td>\n",
       "      <td>0.0</td>\n",
       "      <td>0.0</td>\n",
       "      <td>0.0</td>\n",
       "      <td>0.0</td>\n",
       "    </tr>\n",
       "    <tr>\n",
       "      <th>1</th>\n",
       "      <td>1</td>\n",
       "      <td>1975-12-30  23:37:00.00</td>\n",
       "      <td>36.905667</td>\n",
       "      <td>-121.637167</td>\n",
       "      <td>-0.155</td>\n",
       "      <td>2.67</td>\n",
       "      <td>Salinas</td>\n",
       "      <td>2.5</td>\n",
       "      <td>1975-11-30 23:37:00.00</td>\n",
       "      <td>0.020145</td>\n",
       "      <td>...</td>\n",
       "      <td>0.0</td>\n",
       "      <td>0.0</td>\n",
       "      <td>0.0</td>\n",
       "      <td>0.0</td>\n",
       "      <td>0.0</td>\n",
       "      <td>0.0</td>\n",
       "      <td>0.0</td>\n",
       "      <td>0.0</td>\n",
       "      <td>0.0</td>\n",
       "      <td>0.0</td>\n",
       "    </tr>\n",
       "    <tr>\n",
       "      <th>2</th>\n",
       "      <td>2</td>\n",
       "      <td>1975-12-30  23:04:00.00</td>\n",
       "      <td>36.838667</td>\n",
       "      <td>-121.569833</td>\n",
       "      <td>4.774</td>\n",
       "      <td>2.67</td>\n",
       "      <td>Salinas</td>\n",
       "      <td>2.5</td>\n",
       "      <td>1975-11-30 23:04:00.00</td>\n",
       "      <td>0.020145</td>\n",
       "      <td>...</td>\n",
       "      <td>0.0</td>\n",
       "      <td>0.0</td>\n",
       "      <td>0.0</td>\n",
       "      <td>0.0</td>\n",
       "      <td>0.0</td>\n",
       "      <td>0.0</td>\n",
       "      <td>0.0</td>\n",
       "      <td>0.0</td>\n",
       "      <td>0.0</td>\n",
       "      <td>0.0</td>\n",
       "    </tr>\n",
       "    <tr>\n",
       "      <th>3</th>\n",
       "      <td>3</td>\n",
       "      <td>1975-12-30  18:10:00.00</td>\n",
       "      <td>35.781000</td>\n",
       "      <td>-121.421000</td>\n",
       "      <td>11.895</td>\n",
       "      <td>3.15</td>\n",
       "      <td>King City NV</td>\n",
       "      <td>3.0</td>\n",
       "      <td>1975-11-30 18:10:00.00</td>\n",
       "      <td>0.060606</td>\n",
       "      <td>...</td>\n",
       "      <td>0.0</td>\n",
       "      <td>0.0</td>\n",
       "      <td>0.0</td>\n",
       "      <td>0.0</td>\n",
       "      <td>0.0</td>\n",
       "      <td>0.0</td>\n",
       "      <td>0.0</td>\n",
       "      <td>0.0</td>\n",
       "      <td>0.0</td>\n",
       "      <td>0.0</td>\n",
       "    </tr>\n",
       "    <tr>\n",
       "      <th>4</th>\n",
       "      <td>4</td>\n",
       "      <td>1975-12-29  15:07:00.00</td>\n",
       "      <td>36.816333</td>\n",
       "      <td>-121.138833</td>\n",
       "      <td>6.478</td>\n",
       "      <td>3.50</td>\n",
       "      <td>Salinas</td>\n",
       "      <td>3.5</td>\n",
       "      <td>1975-11-29 15:07:00.00</td>\n",
       "      <td>0.171233</td>\n",
       "      <td>...</td>\n",
       "      <td>0.0</td>\n",
       "      <td>0.0</td>\n",
       "      <td>0.0</td>\n",
       "      <td>0.0</td>\n",
       "      <td>0.0</td>\n",
       "      <td>0.0</td>\n",
       "      <td>0.0</td>\n",
       "      <td>0.0</td>\n",
       "      <td>0.0</td>\n",
       "      <td>0.0</td>\n",
       "    </tr>\n",
       "  </tbody>\n",
       "</table>\n",
       "<p>5 rows × 25 columns</p>\n",
       "</div>"
      ],
      "text/plain": [
       "   index                     time   latitude   longitude   depth   mag  \\\n",
       "0      0  1975-12-31  02:53:00.00  34.279000 -116.337000   2.330  2.70   \n",
       "1      1  1975-12-30  23:37:00.00  36.905667 -121.637167  -0.155  2.67   \n",
       "2      2  1975-12-30  23:04:00.00  36.838667 -121.569833   4.774  2.67   \n",
       "3      3  1975-12-30  18:10:00.00  35.781000 -121.421000  11.895  3.15   \n",
       "4      4  1975-12-29  15:07:00.00  36.816333 -121.138833   6.478  3.50   \n",
       "\n",
       "         ClosestCity  category               lastMonth       POR  ...  Mag45  \\\n",
       "0  Twenty Nine Palms       2.5  1975-12-01 02:53:00.00  0.014476  ...    0.0   \n",
       "1            Salinas       2.5  1975-11-30 23:37:00.00  0.020145  ...    0.0   \n",
       "2            Salinas       2.5  1975-11-30 23:04:00.00  0.020145  ...    0.0   \n",
       "3       King City NV       3.0  1975-11-30 18:10:00.00  0.060606  ...    0.0   \n",
       "4            Salinas       3.5  1975-11-29 15:07:00.00  0.171233  ...    0.0   \n",
       "\n",
       "   Mag50  Mag55  Mag60  Mag65  Mag70  Mag75  Mag80  Mag85  Mag90  \n",
       "0    0.0    0.0    0.0    0.0    0.0    0.0    0.0    0.0    0.0  \n",
       "1    0.0    0.0    0.0    0.0    0.0    0.0    0.0    0.0    0.0  \n",
       "2    0.0    0.0    0.0    0.0    0.0    0.0    0.0    0.0    0.0  \n",
       "3    0.0    0.0    0.0    0.0    0.0    0.0    0.0    0.0    0.0  \n",
       "4    0.0    0.0    0.0    0.0    0.0    0.0    0.0    0.0    0.0  \n",
       "\n",
       "[5 rows x 25 columns]"
      ]
     },
     "execution_count": 39,
     "metadata": {},
     "output_type": "execute_result"
    }
   ],
   "source": [
    "quakeData.head()"
   ]
  },
  {
   "cell_type": "code",
   "execution_count": 45,
   "metadata": {},
   "outputs": [
    {
     "name": "stdout",
     "output_type": "stream",
     "text": [
      "Salinas\n"
     ]
    }
   ],
   "source": [
    "# Finding Closest City\n",
    "latQuake = 36.905667\n",
    "lonQuake = -121.637167\n",
    "distCompare = 100000000\n",
    "for i in range(0,len(citygeos)):\n",
    "    latCity = citygeos.iloc[i,1]\n",
    "    lonCity = citygeos.iloc[i,2]\n",
    "    x = latCity - latQuake\n",
    "    y = (lonCity - lonQuake) * math.cos(latQuake * math.pi/180)\n",
    "    distance = 110.25 * (x**2 +y**2)**0.5\n",
    "    if distance < distCompare:\n",
    "        Geo = citygeos.iloc[i,0]\n",
    "        distCompare = distance\n",
    "print(Geo)"
   ]
  },
  {
   "cell_type": "code",
   "execution_count": 41,
   "metadata": {},
   "outputs": [],
   "source": [
    "# Inserting columns in table with Closest City\n",
    "DistCompare = 100000000\n",
    "for i in range(0,len(citygeos)):\n",
    "    latCity = citygeos.iloc[i,1]\n",
    "    lonCity = citygeos.iloc[i,2]\n",
    "    for j in range(0,len(quakeData)):\n",
    "        latQuake = quakeData.iloc[j,2]\n",
    "        lonQuake = quakeData.iloc[j,3]\n",
    "        x = latCity - latQuake\n",
    "        y = (lonCity - lonQuake) * math.cos(latQuake * math.pi/180)\n",
    "        Distance = 110.25 * (x**2 +y**2)**0.5\n",
    "        if Distance < DistCompare:\n",
    "            Geo = citygeos.iloc[i,0]\n",
    "        "
   ]
  },
  {
   "cell_type": "code",
   "execution_count": null,
   "metadata": {},
   "outputs": [],
   "source": []
  }
 ],
 "metadata": {
  "kernelspec": {
   "display_name": "Python 3",
   "language": "python",
   "name": "python3"
  },
  "language_info": {
   "codemirror_mode": {
    "name": "ipython",
    "version": 3
   },
   "file_extension": ".py",
   "mimetype": "text/x-python",
   "name": "python",
   "nbconvert_exporter": "python",
   "pygments_lexer": "ipython3",
   "version": "3.7.6"
  }
 },
 "nbformat": 4,
 "nbformat_minor": 4
}
