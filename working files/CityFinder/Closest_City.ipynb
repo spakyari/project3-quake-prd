{
 "cells": [
  {
   "cell_type": "code",
   "execution_count": 1,
   "metadata": {},
   "outputs": [],
   "source": [
    "# Dependencies and Setup\n",
    "import pandas as pd\n",
    "import numpy as np\n",
    "import math\n",
    "# This is the file with the Clsoset Cities and their coords\n",
    "citygeos = pd.read_csv(\"city geos.csv\")"
   ]
  },
  {
   "cell_type": "code",
   "execution_count": 10,
   "metadata": {},
   "outputs": [
    {
     "name": "stdout",
     "output_type": "stream",
     "text": [
      "Lompoc\n"
     ]
    }
   ],
   "source": [
    "# Finding Closest City\n",
    "latQuake = 33\n",
    "lonQuake = -121\n",
    "distCompare = 100000000\n",
    "for i in range(0,len(citygeos)):\n",
    "    latCity = citygeos.iloc[i,1]\n",
    "    lonCity = citygeos.iloc[i,2]\n",
    "    x = latCity - latQuake\n",
    "    y = (lonCity - lonQuake) * math.cos(latQuake * math.pi/180)\n",
    "    distance = 110.25 * (x**2 +y**2)**0.5\n",
    "    if distance < distCompare:\n",
    "        Geo = citygeos.iloc[i,0]\n",
    "        distCompare = distance\n",
    "print(Geo)"
   ]
  }
 ],
 "metadata": {
  "kernelspec": {
   "display_name": "Python 3",
   "language": "python",
   "name": "python3"
  },
  "language_info": {
   "codemirror_mode": {
    "name": "ipython",
    "version": 3
   },
   "file_extension": ".py",
   "mimetype": "text/x-python",
   "name": "python",
   "nbconvert_exporter": "python",
   "pygments_lexer": "ipython3",
   "version": "3.7.6"
  }
 },
 "nbformat": 4,
 "nbformat_minor": 4
}
