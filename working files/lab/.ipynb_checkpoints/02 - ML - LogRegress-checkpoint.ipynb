{
 "cells": [
  {
   "cell_type": "code",
   "execution_count": 205,
   "metadata": {
    "jupyter": {
     "outputs_hidden": true
    },
    "slideshow": {
     "slide_type": "subslide"
    }
   },
   "outputs": [],
   "source": [
    "%matplotlib inline\n",
    "import matplotlib.pyplot as plt\n",
    "import numpy as np\n",
    "import pandas as pd\n",
    "import joblib\n",
    "import os"
   ]
  },
  {
   "cell_type": "markdown",
   "metadata": {},
   "source": [
    "# Earthquake Prediction\n",
    "\n",
    "\n",
    "## The Dataset\n"
   ]
  },
  {
   "cell_type": "code",
   "execution_count": 258,
   "metadata": {
    "slideshow": {
     "slide_type": "fragment"
    }
   },
   "outputs": [
    {
     "data": {
      "text/html": [
       "<div>\n",
       "<style scoped>\n",
       "    .dataframe tbody tr th:only-of-type {\n",
       "        vertical-align: middle;\n",
       "    }\n",
       "\n",
       "    .dataframe tbody tr th {\n",
       "        vertical-align: top;\n",
       "    }\n",
       "\n",
       "    .dataframe thead th {\n",
       "        text-align: right;\n",
       "    }\n",
       "</style>\n",
       "<table border=\"1\" class=\"dataframe\">\n",
       "  <thead>\n",
       "    <tr style=\"text-align: right;\">\n",
       "      <th></th>\n",
       "      <th>time</th>\n",
       "      <th>latitude</th>\n",
       "      <th>longitude</th>\n",
       "      <th>depth</th>\n",
       "      <th>mag</th>\n",
       "      <th>ClosestCity</th>\n",
       "      <th>category</th>\n",
       "      <th>lastMonth</th>\n",
       "      <th>POR</th>\n",
       "      <th>Mag20</th>\n",
       "      <th>...</th>\n",
       "      <th>Mag45</th>\n",
       "      <th>Mag50</th>\n",
       "      <th>Mag55</th>\n",
       "      <th>Mag60</th>\n",
       "      <th>Mag65</th>\n",
       "      <th>Mag70</th>\n",
       "      <th>Mag75</th>\n",
       "      <th>Mag80</th>\n",
       "      <th>Mag85</th>\n",
       "      <th>Mag90</th>\n",
       "    </tr>\n",
       "  </thead>\n",
       "  <tbody>\n",
       "    <tr>\n",
       "      <th>0</th>\n",
       "      <td>1975-12-31  02:53:00.00</td>\n",
       "      <td>34.279000</td>\n",
       "      <td>-116.337000</td>\n",
       "      <td>2.330</td>\n",
       "      <td>2.70</td>\n",
       "      <td>Twenty Nine Palms</td>\n",
       "      <td>2.5</td>\n",
       "      <td>1975-12-01 02:53:00.00</td>\n",
       "      <td>0.014476</td>\n",
       "      <td>0.0</td>\n",
       "      <td>...</td>\n",
       "      <td>0.0</td>\n",
       "      <td>0.0</td>\n",
       "      <td>0.0</td>\n",
       "      <td>0.0</td>\n",
       "      <td>0.0</td>\n",
       "      <td>0.0</td>\n",
       "      <td>0.0</td>\n",
       "      <td>0.0</td>\n",
       "      <td>0.0</td>\n",
       "      <td>0.0</td>\n",
       "    </tr>\n",
       "    <tr>\n",
       "      <th>1</th>\n",
       "      <td>1975-12-30  23:37:00.00</td>\n",
       "      <td>36.905667</td>\n",
       "      <td>-121.637167</td>\n",
       "      <td>-0.155</td>\n",
       "      <td>2.67</td>\n",
       "      <td>Salinas</td>\n",
       "      <td>2.5</td>\n",
       "      <td>1975-11-30 23:37:00.00</td>\n",
       "      <td>0.020145</td>\n",
       "      <td>0.0</td>\n",
       "      <td>...</td>\n",
       "      <td>0.0</td>\n",
       "      <td>0.0</td>\n",
       "      <td>0.0</td>\n",
       "      <td>0.0</td>\n",
       "      <td>0.0</td>\n",
       "      <td>0.0</td>\n",
       "      <td>0.0</td>\n",
       "      <td>0.0</td>\n",
       "      <td>0.0</td>\n",
       "      <td>0.0</td>\n",
       "    </tr>\n",
       "    <tr>\n",
       "      <th>2</th>\n",
       "      <td>1975-12-30  23:04:00.00</td>\n",
       "      <td>36.838667</td>\n",
       "      <td>-121.569833</td>\n",
       "      <td>4.774</td>\n",
       "      <td>2.67</td>\n",
       "      <td>Salinas</td>\n",
       "      <td>2.5</td>\n",
       "      <td>1975-11-30 23:04:00.00</td>\n",
       "      <td>0.020145</td>\n",
       "      <td>0.0</td>\n",
       "      <td>...</td>\n",
       "      <td>0.0</td>\n",
       "      <td>0.0</td>\n",
       "      <td>0.0</td>\n",
       "      <td>0.0</td>\n",
       "      <td>0.0</td>\n",
       "      <td>0.0</td>\n",
       "      <td>0.0</td>\n",
       "      <td>0.0</td>\n",
       "      <td>0.0</td>\n",
       "      <td>0.0</td>\n",
       "    </tr>\n",
       "    <tr>\n",
       "      <th>3</th>\n",
       "      <td>1975-12-30  18:10:00.00</td>\n",
       "      <td>35.781000</td>\n",
       "      <td>-121.421000</td>\n",
       "      <td>11.895</td>\n",
       "      <td>3.15</td>\n",
       "      <td>King City NV</td>\n",
       "      <td>3</td>\n",
       "      <td>1975-11-30 18:10:00.00</td>\n",
       "      <td>0.060606</td>\n",
       "      <td>0.0</td>\n",
       "      <td>...</td>\n",
       "      <td>0.0</td>\n",
       "      <td>0.0</td>\n",
       "      <td>0.0</td>\n",
       "      <td>0.0</td>\n",
       "      <td>0.0</td>\n",
       "      <td>0.0</td>\n",
       "      <td>0.0</td>\n",
       "      <td>0.0</td>\n",
       "      <td>0.0</td>\n",
       "      <td>0.0</td>\n",
       "    </tr>\n",
       "    <tr>\n",
       "      <th>4</th>\n",
       "      <td>1975-12-29  15:07:00.00</td>\n",
       "      <td>36.816333</td>\n",
       "      <td>-121.138833</td>\n",
       "      <td>6.478</td>\n",
       "      <td>3.50</td>\n",
       "      <td>Salinas</td>\n",
       "      <td>3.5</td>\n",
       "      <td>1975-11-29 15:07:00.00</td>\n",
       "      <td>0.171233</td>\n",
       "      <td>0.0</td>\n",
       "      <td>...</td>\n",
       "      <td>0.0</td>\n",
       "      <td>0.0</td>\n",
       "      <td>0.0</td>\n",
       "      <td>0.0</td>\n",
       "      <td>0.0</td>\n",
       "      <td>0.0</td>\n",
       "      <td>0.0</td>\n",
       "      <td>0.0</td>\n",
       "      <td>0.0</td>\n",
       "      <td>0.0</td>\n",
       "    </tr>\n",
       "  </tbody>\n",
       "</table>\n",
       "<p>5 rows × 24 columns</p>\n",
       "</div>"
      ],
      "text/plain": [
       "                      time   latitude   longitude   depth   mag  \\\n",
       "0  1975-12-31  02:53:00.00  34.279000 -116.337000   2.330  2.70   \n",
       "1  1975-12-30  23:37:00.00  36.905667 -121.637167  -0.155  2.67   \n",
       "2  1975-12-30  23:04:00.00  36.838667 -121.569833   4.774  2.67   \n",
       "3  1975-12-30  18:10:00.00  35.781000 -121.421000  11.895  3.15   \n",
       "4  1975-12-29  15:07:00.00  36.816333 -121.138833   6.478  3.50   \n",
       "\n",
       "         ClosestCity category               lastMonth       POR  Mag20  ...  \\\n",
       "0  Twenty Nine Palms      2.5  1975-12-01 02:53:00.00  0.014476    0.0  ...   \n",
       "1            Salinas      2.5  1975-11-30 23:37:00.00  0.020145    0.0  ...   \n",
       "2            Salinas      2.5  1975-11-30 23:04:00.00  0.020145    0.0  ...   \n",
       "3       King City NV        3  1975-11-30 18:10:00.00  0.060606    0.0  ...   \n",
       "4            Salinas      3.5  1975-11-29 15:07:00.00  0.171233    0.0  ...   \n",
       "\n",
       "   Mag45  Mag50  Mag55  Mag60  Mag65  Mag70  Mag75  Mag80  Mag85  Mag90  \n",
       "0    0.0    0.0    0.0    0.0    0.0    0.0    0.0    0.0    0.0    0.0  \n",
       "1    0.0    0.0    0.0    0.0    0.0    0.0    0.0    0.0    0.0    0.0  \n",
       "2    0.0    0.0    0.0    0.0    0.0    0.0    0.0    0.0    0.0    0.0  \n",
       "3    0.0    0.0    0.0    0.0    0.0    0.0    0.0    0.0    0.0    0.0  \n",
       "4    0.0    0.0    0.0    0.0    0.0    0.0    0.0    0.0    0.0    0.0  \n",
       "\n",
       "[5 rows x 24 columns]"
      ]
     },
     "execution_count": 258,
     "metadata": {},
     "output_type": "execute_result"
    }
   ],
   "source": [
    "# quakes = pd.read_csv(os.path.join('.', 'Data', 'Feature Builder.csv'))\n",
    "quakes = pd.read_csv('Output/all features.csv')\n",
    "quakes.dropna(inplace=True)\n",
    "quakes = quakes.astype({'category':'object'})\n",
    "quakes.head(5)"
   ]
  },
  {
   "cell_type": "code",
   "execution_count": 268,
   "metadata": {
    "nbgrader": {
     "grade": false,
     "grade_id": "cell-86a9e3212f200d21",
     "locked": false,
     "schema_version": 1,
     "solution": true
    },
    "slideshow": {
     "slide_type": "subslide"
    }
   },
   "outputs": [
    {
     "data": {
      "text/html": [
       "<div>\n",
       "<style scoped>\n",
       "    .dataframe tbody tr th:only-of-type {\n",
       "        vertical-align: middle;\n",
       "    }\n",
       "\n",
       "    .dataframe tbody tr th {\n",
       "        vertical-align: top;\n",
       "    }\n",
       "\n",
       "    .dataframe thead th {\n",
       "        text-align: right;\n",
       "    }\n",
       "</style>\n",
       "<table border=\"1\" class=\"dataframe\">\n",
       "  <thead>\n",
       "    <tr style=\"text-align: right;\">\n",
       "      <th></th>\n",
       "      <th>time</th>\n",
       "      <th>latitude</th>\n",
       "      <th>longitude</th>\n",
       "      <th>depth</th>\n",
       "      <th>mag</th>\n",
       "      <th>ClosestCity</th>\n",
       "      <th>category</th>\n",
       "      <th>lastMonth</th>\n",
       "      <th>POR</th>\n",
       "      <th>Mag20</th>\n",
       "      <th>...</th>\n",
       "      <th>Mag45</th>\n",
       "      <th>Mag50</th>\n",
       "      <th>Mag55</th>\n",
       "      <th>Mag60</th>\n",
       "      <th>Mag65</th>\n",
       "      <th>Mag70</th>\n",
       "      <th>Mag75</th>\n",
       "      <th>Mag80</th>\n",
       "      <th>Mag85</th>\n",
       "      <th>Mag90</th>\n",
       "    </tr>\n",
       "  </thead>\n",
       "  <tbody>\n",
       "    <tr>\n",
       "      <th>42</th>\n",
       "      <td>1975-12-20  20:00:00.00</td>\n",
       "      <td>37.127667</td>\n",
       "      <td>-116.061667</td>\n",
       "      <td>0.700</td>\n",
       "      <td>5.18</td>\n",
       "      <td>Sugar Bunker NV</td>\n",
       "      <td>5</td>\n",
       "      <td>1975-11-20 20:00:00.00</td>\n",
       "      <td>0.714286</td>\n",
       "      <td>0.0</td>\n",
       "      <td>...</td>\n",
       "      <td>0.0</td>\n",
       "      <td>0.0</td>\n",
       "      <td>0.0</td>\n",
       "      <td>0.0</td>\n",
       "      <td>0.0</td>\n",
       "      <td>0.0</td>\n",
       "      <td>0.0</td>\n",
       "      <td>0.0</td>\n",
       "      <td>0.0</td>\n",
       "      <td>0.0</td>\n",
       "    </tr>\n",
       "    <tr>\n",
       "      <th>141</th>\n",
       "      <td>1975-11-20  15:00:00.00</td>\n",
       "      <td>37.224833</td>\n",
       "      <td>-116.367667</td>\n",
       "      <td>0.800</td>\n",
       "      <td>5.44</td>\n",
       "      <td>Sugar Bunker NV</td>\n",
       "      <td>5</td>\n",
       "      <td>1975-10-21 15:00:00.00</td>\n",
       "      <td>0.714286</td>\n",
       "      <td>0.0</td>\n",
       "      <td>...</td>\n",
       "      <td>1.0</td>\n",
       "      <td>0.0</td>\n",
       "      <td>1.0</td>\n",
       "      <td>0.0</td>\n",
       "      <td>0.0</td>\n",
       "      <td>0.0</td>\n",
       "      <td>0.0</td>\n",
       "      <td>0.0</td>\n",
       "      <td>0.0</td>\n",
       "      <td>0.0</td>\n",
       "    </tr>\n",
       "    <tr>\n",
       "      <th>244</th>\n",
       "      <td>1975-10-28  14:30:00.00</td>\n",
       "      <td>37.290167</td>\n",
       "      <td>-116.411500</td>\n",
       "      <td>1.300</td>\n",
       "      <td>5.67</td>\n",
       "      <td>Sugar Bunker NV</td>\n",
       "      <td>5.5</td>\n",
       "      <td>1975-09-28 14:30:00.00</td>\n",
       "      <td>10.000000</td>\n",
       "      <td>0.0</td>\n",
       "      <td>...</td>\n",
       "      <td>0.0</td>\n",
       "      <td>0.0</td>\n",
       "      <td>0.0</td>\n",
       "      <td>0.0</td>\n",
       "      <td>0.0</td>\n",
       "      <td>0.0</td>\n",
       "      <td>0.0</td>\n",
       "      <td>0.0</td>\n",
       "      <td>0.0</td>\n",
       "      <td>0.0</td>\n",
       "    </tr>\n",
       "    <tr>\n",
       "      <th>1012</th>\n",
       "      <td>1975-08-02  20:58:00.00</td>\n",
       "      <td>39.437833</td>\n",
       "      <td>-121.484833</td>\n",
       "      <td>1.506</td>\n",
       "      <td>5.20</td>\n",
       "      <td>Palermo CA</td>\n",
       "      <td>5</td>\n",
       "      <td>1975-07-03 20:58:00.00</td>\n",
       "      <td>25.000000</td>\n",
       "      <td>0.0</td>\n",
       "      <td>...</td>\n",
       "      <td>4.0</td>\n",
       "      <td>1.0</td>\n",
       "      <td>1.0</td>\n",
       "      <td>0.0</td>\n",
       "      <td>0.0</td>\n",
       "      <td>0.0</td>\n",
       "      <td>0.0</td>\n",
       "      <td>0.0</td>\n",
       "      <td>0.0</td>\n",
       "      <td>0.0</td>\n",
       "    </tr>\n",
       "    <tr>\n",
       "      <th>1015</th>\n",
       "      <td>1975-08-02  20:22:00.00</td>\n",
       "      <td>39.449333</td>\n",
       "      <td>-121.479500</td>\n",
       "      <td>1.716</td>\n",
       "      <td>5.10</td>\n",
       "      <td>Palermo CA</td>\n",
       "      <td>5</td>\n",
       "      <td>1975-07-03 20:22:00.00</td>\n",
       "      <td>25.000000</td>\n",
       "      <td>0.0</td>\n",
       "      <td>...</td>\n",
       "      <td>4.0</td>\n",
       "      <td>0.0</td>\n",
       "      <td>1.0</td>\n",
       "      <td>0.0</td>\n",
       "      <td>0.0</td>\n",
       "      <td>0.0</td>\n",
       "      <td>0.0</td>\n",
       "      <td>0.0</td>\n",
       "      <td>0.0</td>\n",
       "      <td>0.0</td>\n",
       "    </tr>\n",
       "    <tr>\n",
       "      <th>...</th>\n",
       "      <td>...</td>\n",
       "      <td>...</td>\n",
       "      <td>...</td>\n",
       "      <td>...</td>\n",
       "      <td>...</td>\n",
       "      <td>...</td>\n",
       "      <td>...</td>\n",
       "      <td>...</td>\n",
       "      <td>...</td>\n",
       "      <td>...</td>\n",
       "      <td>...</td>\n",
       "      <td>...</td>\n",
       "      <td>...</td>\n",
       "      <td>...</td>\n",
       "      <td>...</td>\n",
       "      <td>...</td>\n",
       "      <td>...</td>\n",
       "      <td>...</td>\n",
       "      <td>...</td>\n",
       "      <td>...</td>\n",
       "      <td>...</td>\n",
       "    </tr>\n",
       "    <tr>\n",
       "      <th>66667</th>\n",
       "      <td>2006-08-11  11:25:00.00</td>\n",
       "      <td>33.887167</td>\n",
       "      <td>-116.327167</td>\n",
       "      <td>4.729</td>\n",
       "      <td>2.70</td>\n",
       "      <td>Palm Springs</td>\n",
       "      <td>2.5</td>\n",
       "      <td>2006-07-12 11:25:00.00</td>\n",
       "      <td>0.016700</td>\n",
       "      <td>0.0</td>\n",
       "      <td>...</td>\n",
       "      <td>0.0</td>\n",
       "      <td>0.0</td>\n",
       "      <td>0.0</td>\n",
       "      <td>0.0</td>\n",
       "      <td>0.0</td>\n",
       "      <td>0.0</td>\n",
       "      <td>0.0</td>\n",
       "      <td>0.0</td>\n",
       "      <td>0.0</td>\n",
       "      <td>0.0</td>\n",
       "    </tr>\n",
       "    <tr>\n",
       "      <th>11275</th>\n",
       "      <td>1978-01-24  08:13:00.00</td>\n",
       "      <td>33.258333</td>\n",
       "      <td>-115.994833</td>\n",
       "      <td>4.710</td>\n",
       "      <td>3.14</td>\n",
       "      <td>El Centro CA</td>\n",
       "      <td>3</td>\n",
       "      <td>1977-12-25 08:13:00.00</td>\n",
       "      <td>0.033512</td>\n",
       "      <td>0.0</td>\n",
       "      <td>...</td>\n",
       "      <td>0.0</td>\n",
       "      <td>0.0</td>\n",
       "      <td>0.0</td>\n",
       "      <td>0.0</td>\n",
       "      <td>0.0</td>\n",
       "      <td>0.0</td>\n",
       "      <td>0.0</td>\n",
       "      <td>0.0</td>\n",
       "      <td>0.0</td>\n",
       "      <td>0.0</td>\n",
       "    </tr>\n",
       "    <tr>\n",
       "      <th>6008</th>\n",
       "      <td>1980-10-30  03:45:00.00</td>\n",
       "      <td>37.515833</td>\n",
       "      <td>-118.755500</td>\n",
       "      <td>5.591</td>\n",
       "      <td>4.30</td>\n",
       "      <td>Bishop</td>\n",
       "      <td>4</td>\n",
       "      <td>1980-09-30 03:45:00.00</td>\n",
       "      <td>0.234742</td>\n",
       "      <td>0.0</td>\n",
       "      <td>...</td>\n",
       "      <td>0.0</td>\n",
       "      <td>0.0</td>\n",
       "      <td>0.0</td>\n",
       "      <td>0.0</td>\n",
       "      <td>0.0</td>\n",
       "      <td>0.0</td>\n",
       "      <td>0.0</td>\n",
       "      <td>0.0</td>\n",
       "      <td>0.0</td>\n",
       "      <td>0.0</td>\n",
       "    </tr>\n",
       "    <tr>\n",
       "      <th>73166</th>\n",
       "      <td>2020-06-05  16:39:00.00</td>\n",
       "      <td>38.177400</td>\n",
       "      <td>-117.762500</td>\n",
       "      <td>3.300</td>\n",
       "      <td>3.50</td>\n",
       "      <td>Round Mtn NV</td>\n",
       "      <td>3.5</td>\n",
       "      <td>2020-05-06 16:39:00.00</td>\n",
       "      <td>1.724138</td>\n",
       "      <td>0.0</td>\n",
       "      <td>...</td>\n",
       "      <td>3.0</td>\n",
       "      <td>2.0</td>\n",
       "      <td>0.0</td>\n",
       "      <td>0.0</td>\n",
       "      <td>0.0</td>\n",
       "      <td>0.0</td>\n",
       "      <td>0.0</td>\n",
       "      <td>0.0</td>\n",
       "      <td>0.0</td>\n",
       "      <td>0.0</td>\n",
       "    </tr>\n",
       "    <tr>\n",
       "      <th>51074</th>\n",
       "      <td>1999-05-14  10:36:00.00</td>\n",
       "      <td>34.039000</td>\n",
       "      <td>-116.370000</td>\n",
       "      <td>-1.280</td>\n",
       "      <td>2.95</td>\n",
       "      <td>Palm Springs</td>\n",
       "      <td>2.5</td>\n",
       "      <td>1999-04-14 10:36:00.00</td>\n",
       "      <td>0.016700</td>\n",
       "      <td>0.0</td>\n",
       "      <td>...</td>\n",
       "      <td>1.0</td>\n",
       "      <td>0.0</td>\n",
       "      <td>0.0</td>\n",
       "      <td>0.0</td>\n",
       "      <td>0.0</td>\n",
       "      <td>0.0</td>\n",
       "      <td>0.0</td>\n",
       "      <td>0.0</td>\n",
       "      <td>0.0</td>\n",
       "      <td>0.0</td>\n",
       "    </tr>\n",
       "  </tbody>\n",
       "</table>\n",
       "<p>542 rows × 24 columns</p>\n",
       "</div>"
      ],
      "text/plain": [
       "                          time   latitude   longitude  depth   mag  \\\n",
       "42     1975-12-20  20:00:00.00  37.127667 -116.061667  0.700  5.18   \n",
       "141    1975-11-20  15:00:00.00  37.224833 -116.367667  0.800  5.44   \n",
       "244    1975-10-28  14:30:00.00  37.290167 -116.411500  1.300  5.67   \n",
       "1012   1975-08-02  20:58:00.00  39.437833 -121.484833  1.506  5.20   \n",
       "1015   1975-08-02  20:22:00.00  39.449333 -121.479500  1.716  5.10   \n",
       "...                        ...        ...         ...    ...   ...   \n",
       "66667  2006-08-11  11:25:00.00  33.887167 -116.327167  4.729  2.70   \n",
       "11275  1978-01-24  08:13:00.00  33.258333 -115.994833  4.710  3.14   \n",
       "6008   1980-10-30  03:45:00.00  37.515833 -118.755500  5.591  4.30   \n",
       "73166  2020-06-05  16:39:00.00  38.177400 -117.762500  3.300  3.50   \n",
       "51074  1999-05-14  10:36:00.00  34.039000 -116.370000 -1.280  2.95   \n",
       "\n",
       "           ClosestCity category               lastMonth        POR  Mag20  \\\n",
       "42     Sugar Bunker NV        5  1975-11-20 20:00:00.00   0.714286    0.0   \n",
       "141    Sugar Bunker NV        5  1975-10-21 15:00:00.00   0.714286    0.0   \n",
       "244    Sugar Bunker NV      5.5  1975-09-28 14:30:00.00  10.000000    0.0   \n",
       "1012        Palermo CA        5  1975-07-03 20:58:00.00  25.000000    0.0   \n",
       "1015        Palermo CA        5  1975-07-03 20:22:00.00  25.000000    0.0   \n",
       "...                ...      ...                     ...        ...    ...   \n",
       "66667     Palm Springs      2.5  2006-07-12 11:25:00.00   0.016700    0.0   \n",
       "11275     El Centro CA        3  1977-12-25 08:13:00.00   0.033512    0.0   \n",
       "6008            Bishop        4  1980-09-30 03:45:00.00   0.234742    0.0   \n",
       "73166     Round Mtn NV      3.5  2020-05-06 16:39:00.00   1.724138    0.0   \n",
       "51074     Palm Springs      2.5  1999-04-14 10:36:00.00   0.016700    0.0   \n",
       "\n",
       "       ...  Mag45  Mag50  Mag55  Mag60  Mag65  Mag70  Mag75  Mag80  Mag85  \\\n",
       "42     ...    0.0    0.0    0.0    0.0    0.0    0.0    0.0    0.0    0.0   \n",
       "141    ...    1.0    0.0    1.0    0.0    0.0    0.0    0.0    0.0    0.0   \n",
       "244    ...    0.0    0.0    0.0    0.0    0.0    0.0    0.0    0.0    0.0   \n",
       "1012   ...    4.0    1.0    1.0    0.0    0.0    0.0    0.0    0.0    0.0   \n",
       "1015   ...    4.0    0.0    1.0    0.0    0.0    0.0    0.0    0.0    0.0   \n",
       "...    ...    ...    ...    ...    ...    ...    ...    ...    ...    ...   \n",
       "66667  ...    0.0    0.0    0.0    0.0    0.0    0.0    0.0    0.0    0.0   \n",
       "11275  ...    0.0    0.0    0.0    0.0    0.0    0.0    0.0    0.0    0.0   \n",
       "6008   ...    0.0    0.0    0.0    0.0    0.0    0.0    0.0    0.0    0.0   \n",
       "73166  ...    3.0    2.0    0.0    0.0    0.0    0.0    0.0    0.0    0.0   \n",
       "51074  ...    1.0    0.0    0.0    0.0    0.0    0.0    0.0    0.0    0.0   \n",
       "\n",
       "       Mag90  \n",
       "42       0.0  \n",
       "141      0.0  \n",
       "244      0.0  \n",
       "1012     0.0  \n",
       "1015     0.0  \n",
       "...      ...  \n",
       "66667    0.0  \n",
       "11275    0.0  \n",
       "6008     0.0  \n",
       "73166    0.0  \n",
       "51074    0.0  \n",
       "\n",
       "[542 rows x 24 columns]"
      ]
     },
     "execution_count": 268,
     "metadata": {},
     "output_type": "execute_result"
    }
   ],
   "source": [
    "# The goal is to classify the big earthquakes (maginiture > 4.5)\n",
    "# However the large earthquakes are rare and rather unique in each area,\n",
    "# therefore the model shall be trained for all large earthquakes\n",
    "\n",
    "n = 290\n",
    "\n",
    "\n",
    "large_df = quakes[quakes['category']>4.5]\n",
    "large_df\n",
    "\n",
    "small_df = quakes[quakes['category']<4.5].sample(n)\n",
    "small_df\n",
    "\n",
    "sample_df  = large_df.append(small_df)\n",
    "\n",
    "sample_df\n"
   ]
  },
  {
   "cell_type": "code",
   "execution_count": 269,
   "metadata": {},
   "outputs": [
    {
     "name": "stdout",
     "output_type": "stream",
     "text": [
      "(522, 15) (522,)\n"
     ]
    }
   ],
   "source": [
    "# Assign X (data) and y (target)\n",
    "X = quakes.drop(['time', 'latitude', 'longitude','mag', \n",
    "                 'ClosestCity','category','lastMonth','depth','POR'], axis=1)\n",
    "# y = pd.get_dummies(quakes[\"category\"])\n",
    "Y = np.array([5 if x > 4.5 else 2 for x in quakes[\"category\"]])\n",
    "\n",
    "\n",
    "print(x.shape, y.shape)"
   ]
  },
  {
   "cell_type": "code",
   "execution_count": 270,
   "metadata": {
    "nbgrader": {
     "grade": false,
     "grade_id": "cell-86a9e3212f200d21",
     "locked": false,
     "schema_version": 1,
     "solution": true
    },
    "slideshow": {
     "slide_type": "subslide"
    }
   },
   "outputs": [
    {
     "data": {
      "text/html": [
       "<div>\n",
       "<style scoped>\n",
       "    .dataframe tbody tr th:only-of-type {\n",
       "        vertical-align: middle;\n",
       "    }\n",
       "\n",
       "    .dataframe tbody tr th {\n",
       "        vertical-align: top;\n",
       "    }\n",
       "\n",
       "    .dataframe thead th {\n",
       "        text-align: right;\n",
       "    }\n",
       "</style>\n",
       "<table border=\"1\" class=\"dataframe\">\n",
       "  <thead>\n",
       "    <tr style=\"text-align: right;\">\n",
       "      <th></th>\n",
       "      <th>Mag20</th>\n",
       "      <th>Mag25</th>\n",
       "      <th>Mag30</th>\n",
       "      <th>Mag35</th>\n",
       "      <th>Mag40</th>\n",
       "      <th>Mag45</th>\n",
       "      <th>Mag50</th>\n",
       "      <th>Mag55</th>\n",
       "      <th>Mag60</th>\n",
       "      <th>Mag65</th>\n",
       "      <th>Mag70</th>\n",
       "      <th>Mag75</th>\n",
       "      <th>Mag80</th>\n",
       "      <th>Mag85</th>\n",
       "      <th>Mag90</th>\n",
       "    </tr>\n",
       "  </thead>\n",
       "  <tbody>\n",
       "    <tr>\n",
       "      <th>0</th>\n",
       "      <td>0.0</td>\n",
       "      <td>7.0</td>\n",
       "      <td>0.0</td>\n",
       "      <td>0.0</td>\n",
       "      <td>1.0</td>\n",
       "      <td>0.0</td>\n",
       "      <td>0.0</td>\n",
       "      <td>0.0</td>\n",
       "      <td>0.0</td>\n",
       "      <td>0.0</td>\n",
       "      <td>0.0</td>\n",
       "      <td>0.0</td>\n",
       "      <td>0.0</td>\n",
       "      <td>0.0</td>\n",
       "      <td>0.0</td>\n",
       "    </tr>\n",
       "    <tr>\n",
       "      <th>1</th>\n",
       "      <td>0.0</td>\n",
       "      <td>7.0</td>\n",
       "      <td>4.0</td>\n",
       "      <td>1.0</td>\n",
       "      <td>0.0</td>\n",
       "      <td>0.0</td>\n",
       "      <td>0.0</td>\n",
       "      <td>0.0</td>\n",
       "      <td>0.0</td>\n",
       "      <td>0.0</td>\n",
       "      <td>0.0</td>\n",
       "      <td>0.0</td>\n",
       "      <td>0.0</td>\n",
       "      <td>0.0</td>\n",
       "      <td>0.0</td>\n",
       "    </tr>\n",
       "    <tr>\n",
       "      <th>2</th>\n",
       "      <td>0.0</td>\n",
       "      <td>6.0</td>\n",
       "      <td>4.0</td>\n",
       "      <td>1.0</td>\n",
       "      <td>0.0</td>\n",
       "      <td>0.0</td>\n",
       "      <td>0.0</td>\n",
       "      <td>0.0</td>\n",
       "      <td>0.0</td>\n",
       "      <td>0.0</td>\n",
       "      <td>0.0</td>\n",
       "      <td>0.0</td>\n",
       "      <td>0.0</td>\n",
       "      <td>0.0</td>\n",
       "      <td>0.0</td>\n",
       "    </tr>\n",
       "    <tr>\n",
       "      <th>3</th>\n",
       "      <td>0.0</td>\n",
       "      <td>16.0</td>\n",
       "      <td>1.0</td>\n",
       "      <td>2.0</td>\n",
       "      <td>0.0</td>\n",
       "      <td>0.0</td>\n",
       "      <td>0.0</td>\n",
       "      <td>0.0</td>\n",
       "      <td>0.0</td>\n",
       "      <td>0.0</td>\n",
       "      <td>0.0</td>\n",
       "      <td>0.0</td>\n",
       "      <td>0.0</td>\n",
       "      <td>0.0</td>\n",
       "      <td>0.0</td>\n",
       "    </tr>\n",
       "    <tr>\n",
       "      <th>4</th>\n",
       "      <td>0.0</td>\n",
       "      <td>6.0</td>\n",
       "      <td>5.0</td>\n",
       "      <td>0.0</td>\n",
       "      <td>0.0</td>\n",
       "      <td>0.0</td>\n",
       "      <td>0.0</td>\n",
       "      <td>0.0</td>\n",
       "      <td>0.0</td>\n",
       "      <td>0.0</td>\n",
       "      <td>0.0</td>\n",
       "      <td>0.0</td>\n",
       "      <td>0.0</td>\n",
       "      <td>0.0</td>\n",
       "      <td>0.0</td>\n",
       "    </tr>\n",
       "    <tr>\n",
       "      <th>5</th>\n",
       "      <td>0.0</td>\n",
       "      <td>0.0</td>\n",
       "      <td>1.0</td>\n",
       "      <td>0.0</td>\n",
       "      <td>0.0</td>\n",
       "      <td>0.0</td>\n",
       "      <td>0.0</td>\n",
       "      <td>0.0</td>\n",
       "      <td>0.0</td>\n",
       "      <td>0.0</td>\n",
       "      <td>0.0</td>\n",
       "      <td>0.0</td>\n",
       "      <td>0.0</td>\n",
       "      <td>0.0</td>\n",
       "      <td>0.0</td>\n",
       "    </tr>\n",
       "    <tr>\n",
       "      <th>7</th>\n",
       "      <td>0.0</td>\n",
       "      <td>15.0</td>\n",
       "      <td>2.0</td>\n",
       "      <td>2.0</td>\n",
       "      <td>0.0</td>\n",
       "      <td>0.0</td>\n",
       "      <td>0.0</td>\n",
       "      <td>0.0</td>\n",
       "      <td>0.0</td>\n",
       "      <td>0.0</td>\n",
       "      <td>0.0</td>\n",
       "      <td>0.0</td>\n",
       "      <td>0.0</td>\n",
       "      <td>0.0</td>\n",
       "      <td>0.0</td>\n",
       "    </tr>\n",
       "    <tr>\n",
       "      <th>8</th>\n",
       "      <td>0.0</td>\n",
       "      <td>6.0</td>\n",
       "      <td>4.0</td>\n",
       "      <td>1.0</td>\n",
       "      <td>0.0</td>\n",
       "      <td>0.0</td>\n",
       "      <td>0.0</td>\n",
       "      <td>0.0</td>\n",
       "      <td>0.0</td>\n",
       "      <td>0.0</td>\n",
       "      <td>0.0</td>\n",
       "      <td>0.0</td>\n",
       "      <td>0.0</td>\n",
       "      <td>0.0</td>\n",
       "      <td>0.0</td>\n",
       "    </tr>\n",
       "    <tr>\n",
       "      <th>9</th>\n",
       "      <td>0.0</td>\n",
       "      <td>14.0</td>\n",
       "      <td>2.0</td>\n",
       "      <td>2.0</td>\n",
       "      <td>0.0</td>\n",
       "      <td>0.0</td>\n",
       "      <td>0.0</td>\n",
       "      <td>0.0</td>\n",
       "      <td>0.0</td>\n",
       "      <td>0.0</td>\n",
       "      <td>0.0</td>\n",
       "      <td>0.0</td>\n",
       "      <td>0.0</td>\n",
       "      <td>0.0</td>\n",
       "      <td>0.0</td>\n",
       "    </tr>\n",
       "    <tr>\n",
       "      <th>10</th>\n",
       "      <td>0.0</td>\n",
       "      <td>13.0</td>\n",
       "      <td>2.0</td>\n",
       "      <td>2.0</td>\n",
       "      <td>0.0</td>\n",
       "      <td>0.0</td>\n",
       "      <td>0.0</td>\n",
       "      <td>0.0</td>\n",
       "      <td>0.0</td>\n",
       "      <td>0.0</td>\n",
       "      <td>0.0</td>\n",
       "      <td>0.0</td>\n",
       "      <td>0.0</td>\n",
       "      <td>0.0</td>\n",
       "      <td>0.0</td>\n",
       "    </tr>\n",
       "  </tbody>\n",
       "</table>\n",
       "</div>"
      ],
      "text/plain": [
       "    Mag20  Mag25  Mag30  Mag35  Mag40  Mag45  Mag50  Mag55  Mag60  Mag65  \\\n",
       "0     0.0    7.0    0.0    0.0    1.0    0.0    0.0    0.0    0.0    0.0   \n",
       "1     0.0    7.0    4.0    1.0    0.0    0.0    0.0    0.0    0.0    0.0   \n",
       "2     0.0    6.0    4.0    1.0    0.0    0.0    0.0    0.0    0.0    0.0   \n",
       "3     0.0   16.0    1.0    2.0    0.0    0.0    0.0    0.0    0.0    0.0   \n",
       "4     0.0    6.0    5.0    0.0    0.0    0.0    0.0    0.0    0.0    0.0   \n",
       "5     0.0    0.0    1.0    0.0    0.0    0.0    0.0    0.0    0.0    0.0   \n",
       "7     0.0   15.0    2.0    2.0    0.0    0.0    0.0    0.0    0.0    0.0   \n",
       "8     0.0    6.0    4.0    1.0    0.0    0.0    0.0    0.0    0.0    0.0   \n",
       "9     0.0   14.0    2.0    2.0    0.0    0.0    0.0    0.0    0.0    0.0   \n",
       "10    0.0   13.0    2.0    2.0    0.0    0.0    0.0    0.0    0.0    0.0   \n",
       "\n",
       "    Mag70  Mag75  Mag80  Mag85  Mag90  \n",
       "0     0.0    0.0    0.0    0.0    0.0  \n",
       "1     0.0    0.0    0.0    0.0    0.0  \n",
       "2     0.0    0.0    0.0    0.0    0.0  \n",
       "3     0.0    0.0    0.0    0.0    0.0  \n",
       "4     0.0    0.0    0.0    0.0    0.0  \n",
       "5     0.0    0.0    0.0    0.0    0.0  \n",
       "7     0.0    0.0    0.0    0.0    0.0  \n",
       "8     0.0    0.0    0.0    0.0    0.0  \n",
       "9     0.0    0.0    0.0    0.0    0.0  \n",
       "10    0.0    0.0    0.0    0.0    0.0  "
      ]
     },
     "execution_count": 270,
     "metadata": {},
     "output_type": "execute_result"
    }
   ],
   "source": [
    "# Features dataframe\n",
    "\n",
    "X.head(10)"
   ]
  },
  {
   "cell_type": "code",
   "execution_count": 271,
   "metadata": {
    "nbgrader": {
     "grade": false,
     "grade_id": "cell-86a9e3212f200d21",
     "locked": false,
     "schema_version": 1,
     "solution": true
    },
    "slideshow": {
     "slide_type": "subslide"
    }
   },
   "outputs": [
    {
     "data": {
      "text/plain": [
       "array([2, 2, 2, ..., 2, 2, 2])"
      ]
     },
     "execution_count": 271,
     "metadata": {},
     "output_type": "execute_result"
    }
   ],
   "source": [
    "# Target dataframe\n",
    "\n",
    "Y\n"
   ]
  },
  {
   "cell_type": "markdown",
   "metadata": {
    "slideshow": {
     "slide_type": "subslide"
    }
   },
   "source": [
    "Split our data into training and testing"
   ]
  },
  {
   "cell_type": "code",
   "execution_count": 272,
   "metadata": {
    "jupyter": {
     "outputs_hidden": true
    },
    "nbgrader": {
     "grade": false,
     "grade_id": "cell-711a82d9b32c83ff",
     "locked": false,
     "schema_version": 1,
     "solution": true
    },
    "slideshow": {
     "slide_type": "fragment"
    }
   },
   "outputs": [
    {
     "name": "stdout",
     "output_type": "stream",
     "text": [
      "(542, 15) (542,)\n"
     ]
    }
   ],
   "source": [
    "# Assign X (data) and y (target)\n",
    "x = sample_df.drop(['time', 'latitude', 'longitude','mag', \n",
    "                 'ClosestCity','category','lastMonth','depth','POR'], axis=1)\n",
    "# y = pd.get_dummies(quakes[\"category\"])\n",
    "y = np.array([5 if x > 4.5 else 2 for x in sample_df[\"category\"]])\n",
    "\n",
    "\n",
    "print(x.shape, y.shape)\n"
   ]
  },
  {
   "cell_type": "code",
   "execution_count": 273,
   "metadata": {},
   "outputs": [
    {
     "name": "stdout",
     "output_type": "stream",
     "text": [
      "(542, 15) (542,)\n"
     ]
    }
   ],
   "source": [
    "xL = large_df.drop(['time', 'latitude', 'longitude','mag', \n",
    "                 'ClosestCity','category','lastMonth','depth','POR'], axis=1)\n",
    "# y = pd.get_dummies(quakes[\"category\"])\n",
    "yL = np.array([5 if x > 4.5 else 2 for x in large_df[\"category\"]])\n",
    "\n",
    "\n",
    "print(x.shape, y.shape)"
   ]
  },
  {
   "cell_type": "markdown",
   "metadata": {
    "slideshow": {
     "slide_type": "subslide"
    }
   },
   "source": [
    "Create a Logistic Regression Model"
   ]
  },
  {
   "cell_type": "code",
   "execution_count": 274,
   "metadata": {
    "nbgrader": {
     "grade": false,
     "grade_id": "cell-b83ce1d2dcf17fbd",
     "locked": false,
     "schema_version": 1,
     "solution": true
    },
    "slideshow": {
     "slide_type": "fragment"
    }
   },
   "outputs": [
    {
     "data": {
      "text/plain": [
       "LogisticRegression(C=1.0, class_weight=None, dual=False, fit_intercept=True,\n",
       "                   intercept_scaling=1, l1_ratio=None, max_iter=1000,\n",
       "                   multi_class='auto', n_jobs=None, penalty='l2',\n",
       "                   random_state=None, solver='lbfgs', tol=0.0001, verbose=0,\n",
       "                   warm_start=False)"
      ]
     },
     "execution_count": 274,
     "metadata": {},
     "output_type": "execute_result"
    }
   ],
   "source": [
    "from sklearn.linear_model import LogisticRegression\n",
    "classifier = LogisticRegression(max_iter=1000)\n",
    "classifier"
   ]
  },
  {
   "cell_type": "markdown",
   "metadata": {
    "slideshow": {
     "slide_type": "subslide"
    }
   },
   "source": [
    "Fit (train) or model using the training data"
   ]
  },
  {
   "cell_type": "code",
   "execution_count": 275,
   "metadata": {
    "nbgrader": {
     "grade": false,
     "grade_id": "cell-fa6356c0ca7e4ead",
     "locked": false,
     "schema_version": 1,
     "solution": true
    },
    "slideshow": {
     "slide_type": "fragment"
    }
   },
   "outputs": [
    {
     "data": {
      "text/plain": [
       "LogisticRegression(C=1.0, class_weight=None, dual=False, fit_intercept=True,\n",
       "                   intercept_scaling=1, l1_ratio=None, max_iter=1000,\n",
       "                   multi_class='auto', n_jobs=None, penalty='l2',\n",
       "                   random_state=None, solver='lbfgs', tol=0.0001, verbose=0,\n",
       "                   warm_start=False)"
      ]
     },
     "execution_count": 275,
     "metadata": {},
     "output_type": "execute_result"
    }
   ],
   "source": [
    "classifier.fit(x, y)"
   ]
  },
  {
   "cell_type": "code",
   "execution_count": null,
   "metadata": {},
   "outputs": [],
   "source": []
  },
  {
   "cell_type": "markdown",
   "metadata": {
    "slideshow": {
     "slide_type": "subslide"
    }
   },
   "source": [
    "Validate the model using the test data"
   ]
  },
  {
   "cell_type": "code",
   "execution_count": 276,
   "metadata": {
    "nbgrader": {
     "grade": false,
     "grade_id": "cell-b00f331fda900e0a",
     "locked": false,
     "schema_version": 1,
     "solution": true
    },
    "slideshow": {
     "slide_type": "fragment"
    }
   },
   "outputs": [
    {
     "name": "stdout",
     "output_type": "stream",
     "text": [
      "Training Data Score: 0.6383763837638377\n",
      "Testing Data Score: 0.869367216709302\n",
      "Testing Data Score: 0.3531746031746032\n"
     ]
    }
   ],
   "source": [
    "print(f\"Training Data Score: {classifier.score(x, y)}\")\n",
    "print(f\"Testing Data Score: {classifier.score(X, Y)}\")\n",
    "print(f\"Testing Data Score: {classifier.score(xL, yL)}\")"
   ]
  },
  {
   "cell_type": "markdown",
   "metadata": {
    "slideshow": {
     "slide_type": "subslide"
    }
   },
   "source": [
    "Make predictions"
   ]
  },
  {
   "cell_type": "code",
   "execution_count": 277,
   "metadata": {},
   "outputs": [
    {
     "data": {
      "text/plain": [
       "['C:\\\\Users\\\\spaki\\\\OneDrive\\\\Documents\\\\Bootcamps\\\\Project\\\\quake-API\\\\final_model.h5']"
      ]
     },
     "execution_count": 277,
     "metadata": {},
     "output_type": "execute_result"
    }
   ],
   "source": [
    "FileName = r'C:\\Users\\spaki\\OneDrive\\Documents\\Bootcamps\\Project\\quake-API\\final_model.h5'\n",
    "# joblib.dump(classifier,FileName)"
   ]
  },
  {
   "cell_type": "code",
   "execution_count": 281,
   "metadata": {
    "nbgrader": {
     "grade": false,
     "grade_id": "cell-f97eb3e97245187b",
     "locked": false,
     "schema_version": 1,
     "solution": true
    },
    "slideshow": {
     "slide_type": "fragment"
    }
   },
   "outputs": [
    {
     "name": "stdout",
     "output_type": "stream",
     "text": [
      "First 10 Predictions:   [2 5 2 5 2 2 5 5 5 2]\n",
      "First 10 Actual labels: [5, 5, 5, 5, 5, 5, 5, 5, 5, 5]\n"
     ]
    }
   ],
   "source": [
    "predictions = classifier.predict(xL)\n",
    "print(f\"First 10 Predictions:   {predictions[:10]}\")\n",
    "print(f\"First 10 Actual labels: {yL[:10].tolist()}\")"
   ]
  },
  {
   "cell_type": "code",
   "execution_count": 289,
   "metadata": {},
   "outputs": [],
   "source": [
    "summary_df = large_df.copy()\n",
    "summary_df['predict'] = predictions\n",
    "correct_df = summary_df[summary_df['category'] == summary_df['predict']]\n",
    "correct_df[['time', 'ClosestCity', 'mag']].to_csv('correct_pred.csv')"
   ]
  },
  {
   "cell_type": "code",
   "execution_count": null,
   "metadata": {},
   "outputs": [],
   "source": []
  },
  {
   "cell_type": "code",
   "execution_count": null,
   "metadata": {},
   "outputs": [],
   "source": []
  },
  {
   "cell_type": "code",
   "execution_count": null,
   "metadata": {},
   "outputs": [],
   "source": [
    "predict_df = pd.DataFrame({\"Prediction\": predictions, \"Actual\": y_test}).reset_index(drop=True)\n",
    "predict_df.to_csv('predict.csv')"
   ]
  }
 ],
 "metadata": {
  "kernelspec": {
   "display_name": "Python 3",
   "language": "python",
   "name": "python3"
  },
  "language_info": {
   "codemirror_mode": {
    "name": "ipython",
    "version": 3
   },
   "file_extension": ".py",
   "mimetype": "text/x-python",
   "name": "python",
   "nbconvert_exporter": "python",
   "pygments_lexer": "ipython3",
   "version": "3.7.6"
  },
  "varInspector": {
   "cols": {
    "lenName": 16,
    "lenType": 16,
    "lenVar": 40
   },
   "kernels_config": {
    "python": {
     "delete_cmd_postfix": "",
     "delete_cmd_prefix": "del ",
     "library": "var_list.py",
     "varRefreshCmd": "print(var_dic_list())"
    },
    "r": {
     "delete_cmd_postfix": ") ",
     "delete_cmd_prefix": "rm(",
     "library": "var_list.r",
     "varRefreshCmd": "cat(var_dic_list()) "
    }
   },
   "types_to_exclude": [
    "module",
    "function",
    "builtin_function_or_method",
    "instance",
    "_Feature"
   ],
   "window_display": false
  }
 },
 "nbformat": 4,
 "nbformat_minor": 4
}
